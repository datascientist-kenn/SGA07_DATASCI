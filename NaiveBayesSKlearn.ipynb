{
  "nbformat": 4,
  "nbformat_minor": 0,
  "metadata": {
    "kernelspec": {
      "display_name": "Python 3",
      "language": "python",
      "name": "python3"
    },
    "language_info": {
      "codemirror_mode": {
        "name": "ipython",
        "version": 3
      },
      "file_extension": ".py",
      "mimetype": "text/x-python",
      "name": "python",
      "nbconvert_exporter": "python",
      "pygments_lexer": "ipython3",
      "version": "3.6.9"
    },
    "colab": {
      "name": "NaiveBayesSKlearn.ipynb",
      "provenance": [],
      "collapsed_sections": [],
      "include_colab_link": true
    }
  },
  "cells": [
    {
      "cell_type": "markdown",
      "metadata": {
        "id": "view-in-github",
        "colab_type": "text"
      },
      "source": [
        "<a href=\"https://colab.research.google.com/github/datascientist-kenn/SGA07_DATASCI/blob/master/NaiveBayesSKlearn.ipynb\" target=\"_parent\"><img src=\"https://colab.research.google.com/assets/colab-badge.svg\" alt=\"Open In Colab\"/></a>"
      ]
    },
    {
      "cell_type": "markdown",
      "metadata": {
        "id": "bWjVyuPFYm3C",
        "colab_type": "text"
      },
      "source": [
        "# Naïve Bayes from Scratch! \n"
      ]
    },
    {
      "cell_type": "markdown",
      "metadata": {
        "id": "7IbxMgpiYm35",
        "colab_type": "text"
      },
      "source": [
        "# Outcome of this Tutorial - A Hands-On Scikit-learn Implementation of NB \n",
        "A complete walk-through of NB implementation of NB using Python's Holy Grail of Machine Learning - Scikit-learn\n"
      ]
    },
    {
      "cell_type": "markdown",
      "metadata": {
        "id": "TQzHrGu1Ym4c",
        "colab_type": "text"
      },
      "source": [
        "Let's begin with a few imports..."
      ]
    },
    {
      "cell_type": "code",
      "metadata": {
        "id": "Glpbbfx9Ym4-",
        "colab_type": "code",
        "colab": {}
      },
      "source": [
        "import pandas as pd \n",
        "import numpy as np \n",
        "from collections import defaultdict\n",
        "import re "
      ],
      "execution_count": 0,
      "outputs": []
    },
    {
      "cell_type": "markdown",
      "metadata": {
        "id": "WOE8D-VhYm51",
        "colab_type": "text"
      },
      "source": [
        "Lets first write a handy text preprocessing function "
      ]
    },
    {
      "cell_type": "code",
      "metadata": {
        "id": "U6KR9bU0Ym6D",
        "colab_type": "code",
        "colab": {}
      },
      "source": [
        "def preprocess_string(str_arg):\n",
        "    \n",
        "    \"\"\"\"\n",
        "        Parameters:\n",
        "        ----------\n",
        "        str_arg: example string to be preprocessed\n",
        "        \n",
        "        What the function does?\n",
        "        -----------------------\n",
        "        Preprocess the string argument - str_arg - such that :\n",
        "        1. everything apart from letters is excluded\n",
        "        2. multiple spaces are replaced by single space\n",
        "        3. str_arg is converted to lower case \n",
        "        \n",
        "        Example:\n",
        "        --------\n",
        "        Input :  Menu is absolutely perfect,loved it!\n",
        "        Output:  ['menu', 'is', 'absolutely', 'perfect', 'loved', 'it']\n",
        "        \n",
        "\n",
        "        Returns:\n",
        "        ---------\n",
        "        Preprocessed string \n",
        "        \n",
        "    \"\"\"\n",
        "    \n",
        "    cleaned_str=re.sub('[^a-z\\s]+',' ',str_arg,flags=re.IGNORECASE) #every char except alphabets is replaced\n",
        "    cleaned_str=re.sub('(\\s+)',' ',cleaned_str) #multiple spaces are replaced by single space\n",
        "    cleaned_str=cleaned_str.lower() #converting the cleaned string to lower case\n",
        "    \n",
        "    return cleaned_str # returning the preprocessed string in tokenized form"
      ],
      "execution_count": 0,
      "outputs": []
    },
    {
      "cell_type": "markdown",
      "metadata": {
        "id": "3A43Ho2CYm6v",
        "colab_type": "text"
      },
      "source": [
        "# Loading the 20 newsgroup Dataset  \n"
      ]
    },
    {
      "cell_type": "code",
      "metadata": {
        "id": "JEdRCH_LYm68",
        "colab_type": "code",
        "outputId": "b9ebd579-ec7a-4c4c-fc7f-e6ddb2863e5c",
        "colab": {
          "base_uri": "https://localhost:8080/",
          "height": 85
        }
      },
      "source": [
        "from sklearn.datasets import fetch_20newsgroups\n",
        "\n",
        "######################### Loading Training Dataset ############################\n",
        "\n",
        "categories=['alt.atheism', 'soc.religion.christian','comp.graphics', 'sci.med'] \n",
        "newsgroups_train=fetch_20newsgroups(subset='train',categories=categories)\n",
        "\n",
        "train_data=newsgroups_train.data #getting all training examples\n",
        "train_labels=newsgroups_train.target #getting training labels\n",
        "\n",
        "print (\"Total Number of Training Examples: \",len(train_data))\n",
        "print (\"Total Number of Training Labels: \",len(train_labels))\n"
      ],
      "execution_count": 0,
      "outputs": [
        {
          "output_type": "stream",
          "text": [
            "Downloading 20news dataset. This may take a few minutes.\n",
            "Downloading dataset from https://ndownloader.figshare.com/files/5975967 (14 MB)\n"
          ],
          "name": "stderr"
        },
        {
          "output_type": "stream",
          "text": [
            "Total Number of Training Examples:  2257\n",
            "Total Number of Training Labels:  2257\n"
          ],
          "name": "stdout"
        }
      ]
    },
    {
      "cell_type": "markdown",
      "metadata": {
        "id": "h9dfPOtLYm7t",
        "colab_type": "text"
      },
      "source": [
        "## Here is what the training dataset looks like in it's raw form .....  🤔\n",
        "Training Examples : <br>\n",
        "    The 20 newsgroups dataset comprises around 18000 newsgroups posts on 20 topics \n",
        "    \n",
        "Training Labels : <br>\n",
        "    Training Labels are ['alt.atheism', 'comp.graphics', 'sci.med', 'soc.religion.christian'] - where each training     label has its own unique integer id"
      ]
    },
    {
      "cell_type": "code",
      "metadata": {
        "id": "TYrC-nAIYm77",
        "colab_type": "code",
        "outputId": "a8531d82-7604-4bcb-8ea7-bab2e093bac8",
        "colab": {}
      },
      "source": [
        "pd.DataFrame(data=np.column_stack([train_data,train_labels]),columns=[\"Training Examples\",\"Training Labels\"]).head()"
      ],
      "execution_count": 0,
      "outputs": [
        {
          "output_type": "execute_result",
          "data": {
            "text/html": [
              "<div>\n",
              "<table border=\"1\" class=\"dataframe\">\n",
              "  <thead>\n",
              "    <tr style=\"text-align: right;\">\n",
              "      <th></th>\n",
              "      <th>Training Examples</th>\n",
              "      <th>Training Labels</th>\n",
              "    </tr>\n",
              "  </thead>\n",
              "  <tbody>\n",
              "    <tr>\n",
              "      <th>0</th>\n",
              "      <td>From: sd345@city.ac.uk (Michael Collier)\\nSubj...</td>\n",
              "      <td>1</td>\n",
              "    </tr>\n",
              "    <tr>\n",
              "      <th>1</th>\n",
              "      <td>From: ani@ms.uky.edu (Aniruddha B. Deglurkar)\\...</td>\n",
              "      <td>1</td>\n",
              "    </tr>\n",
              "    <tr>\n",
              "      <th>2</th>\n",
              "      <td>From: djohnson@cs.ucsd.edu (Darin Johnson)\\nSu...</td>\n",
              "      <td>3</td>\n",
              "    </tr>\n",
              "    <tr>\n",
              "      <th>3</th>\n",
              "      <td>From: s0612596@let.rug.nl (M.M. Zwart)\\nSubjec...</td>\n",
              "      <td>3</td>\n",
              "    </tr>\n",
              "    <tr>\n",
              "      <th>4</th>\n",
              "      <td>From: stanly@grok11.columbiasc.ncr.com (stanly...</td>\n",
              "      <td>3</td>\n",
              "    </tr>\n",
              "  </tbody>\n",
              "</table>\n",
              "</div>"
            ],
            "text/plain": [
              "                                   Training Examples Training Labels\n",
              "0  From: sd345@city.ac.uk (Michael Collier)\\nSubj...               1\n",
              "1  From: ani@ms.uky.edu (Aniruddha B. Deglurkar)\\...               1\n",
              "2  From: djohnson@cs.ucsd.edu (Darin Johnson)\\nSu...               3\n",
              "3  From: s0612596@let.rug.nl (M.M. Zwart)\\nSubjec...               3\n",
              "4  From: stanly@grok11.columbiasc.ncr.com (stanly...               3"
            ]
          },
          "metadata": {
            "tags": []
          },
          "execution_count": 5
        }
      ]
    },
    {
      "cell_type": "markdown",
      "metadata": {
        "id": "ULSt9PoRYm8c",
        "colab_type": "text"
      },
      "source": [
        "## Let's begin with the preprocessing of the training dataset that includes\n",
        "1. Text Cleaning\n",
        "2. Creating the BoW representation of our training Dataset (would need the same for test dataset as well)"
      ]
    },
    {
      "cell_type": "markdown",
      "metadata": {
        "id": "L4Y1mWi3Ym8m",
        "colab_type": "text"
      },
      "source": [
        "### 1. Text Cleaning"
      ]
    },
    {
      "cell_type": "code",
      "metadata": {
        "id": "DCv7srlHYm8z",
        "colab_type": "code",
        "outputId": "0bc6294d-75b5-4f0e-ad15-12291ccc3996",
        "colab": {}
      },
      "source": [
        "train_data=[preprocess_string(train_str) for train_str in train_data]\n",
        "print (\"Data Cleaning Done\")\n",
        "print (\"Total Number of Training Examples: \",len(train_data))"
      ],
      "execution_count": 0,
      "outputs": [
        {
          "output_type": "stream",
          "text": [
            "Data Cleaning Done\n",
            "Total Number of Training Examples:  2257\n"
          ],
          "name": "stdout"
        }
      ]
    },
    {
      "cell_type": "markdown",
      "metadata": {
        "id": "BeKF-pQOYm9m",
        "colab_type": "text"
      },
      "source": [
        "## Here's what the processed training dataset looks like"
      ]
    },
    {
      "cell_type": "code",
      "metadata": {
        "id": "rLDYwbSLYm94",
        "colab_type": "code",
        "outputId": "e0c94710-1536-4280-bd60-a9177a0617e8",
        "colab": {}
      },
      "source": [
        "pd.DataFrame(data=np.column_stack([train_data,train_labels]),columns=[\"Training Examples\",\"Training Labels\"]).head()"
      ],
      "execution_count": 0,
      "outputs": [
        {
          "output_type": "execute_result",
          "data": {
            "text/html": [
              "<div>\n",
              "<table border=\"1\" class=\"dataframe\">\n",
              "  <thead>\n",
              "    <tr style=\"text-align: right;\">\n",
              "      <th></th>\n",
              "      <th>Training Examples</th>\n",
              "      <th>Training Labels</th>\n",
              "    </tr>\n",
              "  </thead>\n",
              "  <tbody>\n",
              "    <tr>\n",
              "      <th>0</th>\n",
              "      <td>from sd city ac uk michael collier subject con...</td>\n",
              "      <td>1</td>\n",
              "    </tr>\n",
              "    <tr>\n",
              "      <th>1</th>\n",
              "      <td>from ani ms uky edu aniruddha b deglurkar subj...</td>\n",
              "      <td>1</td>\n",
              "    </tr>\n",
              "    <tr>\n",
              "      <th>2</th>\n",
              "      <td>from djohnson cs ucsd edu darin johnson subjec...</td>\n",
              "      <td>3</td>\n",
              "    </tr>\n",
              "    <tr>\n",
              "      <th>3</th>\n",
              "      <td>from s let rug nl m m zwart subject catholic c...</td>\n",
              "      <td>3</td>\n",
              "    </tr>\n",
              "    <tr>\n",
              "      <th>4</th>\n",
              "      <td>from stanly grok columbiasc ncr com stanly sub...</td>\n",
              "      <td>3</td>\n",
              "    </tr>\n",
              "  </tbody>\n",
              "</table>\n",
              "</div>"
            ],
            "text/plain": [
              "                                   Training Examples Training Labels\n",
              "0  from sd city ac uk michael collier subject con...               1\n",
              "1  from ani ms uky edu aniruddha b deglurkar subj...               1\n",
              "2  from djohnson cs ucsd edu darin johnson subjec...               3\n",
              "3  from s let rug nl m m zwart subject catholic c...               3\n",
              "4  from stanly grok columbiasc ncr com stanly sub...               3"
            ]
          },
          "metadata": {
            "tags": []
          },
          "execution_count": 7
        }
      ]
    },
    {
      "cell_type": "markdown",
      "metadata": {
        "id": "Or0YK_lwYm-Z",
        "colab_type": "text"
      },
      "source": [
        "### 2. Creating the BoW representation of our training Dataset (would need the same for test dataset as well)"
      ]
    },
    {
      "cell_type": "code",
      "metadata": {
        "id": "034T34jZYm-k",
        "colab_type": "code",
        "outputId": "5126cd7b-f6ce-45aa-9bca-8dc2c6f784d5",
        "colab": {}
      },
      "source": [
        "from sklearn.feature_extraction.text import CountVectorizer #simply import CountVectorizer\n",
        "count_vect = CountVectorizer() #instantiate it's object\n",
        "X_train_counts = count_vect.fit_transform(train_data) #builds a term-document matrix ands return it\n",
        "print (X_train_counts.shape)\n"
      ],
      "execution_count": 0,
      "outputs": [
        {
          "output_type": "stream",
          "text": [
            "(2257, 31159)\n"
          ],
          "name": "stdout"
        }
      ]
    },
    {
      "cell_type": "markdown",
      "metadata": {
        "id": "34ZdF50MYm_a",
        "colab_type": "text"
      },
      "source": [
        "## Regarding CountVectorizer - as explained on [Scikit_learn](http://scikit-learn.org/stable/tutorial/text_analytics/working_with_text_data.html)\n",
        "\n",
        "What the Countvectorizer Does?\n",
        "Takes in the text corpus, builds it's term document matrix (i.e BoW), and returns it\n",
        "\n",
        "Every word is assigned a fixed unique integer id and vale of each cell of this matrix represents the word\n",
        "count - BoW\n",
        "\n",
        "So for example X_train_counts[ i , j ]- where i refers to a document which in our case each document specifies a training example and j refers to the index of a word w in it's respective document i- would return count of word j \n",
        "\n",
        "X_train_counts[0,12048] will retrieve the word count of word with the integer id = 12048 and domcent/example \n",
        "id 0\n",
        "\n",
        "You can read more about Sklearn CountVectorizer at [CountVectorizer](http://scikit-learn.org/stable/modules/generated/sklearn.feature_extraction.text.CountVectorizer.html#sklearn.feature_extraction.text.CountVectorizer)"
      ]
    },
    {
      "cell_type": "code",
      "metadata": {
        "id": "kfRH2fQVYm_l",
        "colab_type": "code",
        "outputId": "0f4753ad-630b-4568-f32a-9fee73d27b22",
        "colab": {}
      },
      "source": [
        "print (X_train_counts[0,12048])"
      ],
      "execution_count": 0,
      "outputs": [
        {
          "output_type": "stream",
          "text": [
            "1\n"
          ],
          "name": "stdout"
        }
      ]
    },
    {
      "cell_type": "code",
      "metadata": {
        "id": "ewYfLPj9YnAS",
        "colab_type": "code",
        "outputId": "33cad397-2696-42bf-8127-d128db5c3898",
        "colab": {}
      },
      "source": [
        "print (X_train_counts)"
      ],
      "execution_count": 0,
      "outputs": [
        {
          "output_type": "stream",
          "text": [
            "  (0, 12048)\t1\n",
            "  (0, 8371)\t1\n",
            "  (0, 9880)\t1\n",
            "  (0, 16147)\t1\n",
            "  (0, 27392)\t1\n",
            "  (0, 29019)\t1\n",
            "  (0, 5237)\t1\n",
            "  (0, 21703)\t1\n",
            "  (0, 484)\t1\n",
            "  (0, 13293)\t1\n",
            "  (0, 27608)\t1\n",
            "  (0, 11615)\t1\n",
            "  (0, 5831)\t1\n",
            "  (0, 27740)\t1\n",
            "  (0, 14221)\t1\n",
            "  (0, 23397)\t1\n",
            "  (0, 1283)\t1\n",
            "  (0, 8664)\t2\n",
            "  (0, 20880)\t1\n",
            "  (0, 20903)\t1\n",
            "  (0, 12679)\t1\n",
            "  (0, 24151)\t1\n",
            "  (0, 7862)\t1\n",
            "  (0, 15887)\t1\n",
            "  (0, 898)\t1\n",
            "  :\t:\n",
            "  (2256, 28544)\t1\n",
            "  (2256, 2499)\t1\n",
            "  (2256, 19646)\t1\n",
            "  (2256, 17923)\t1\n",
            "  (2256, 31008)\t2\n",
            "  (2256, 27703)\t1\n",
            "  (2256, 30555)\t1\n",
            "  (2256, 1027)\t1\n",
            "  (2256, 30326)\t1\n",
            "  (2256, 1780)\t1\n",
            "  (2256, 22605)\t2\n",
            "  (2256, 10403)\t1\n",
            "  (2256, 16988)\t1\n",
            "  (2256, 3703)\t1\n",
            "  (2256, 8455)\t2\n",
            "  (2256, 5237)\t1\n",
            "  (2256, 13293)\t1\n",
            "  (2256, 27740)\t1\n",
            "  (2256, 14221)\t2\n",
            "  (2256, 19212)\t2\n",
            "  (2256, 15943)\t1\n",
            "  (2256, 27615)\t6\n",
            "  (2256, 19515)\t1\n",
            "  (2256, 26575)\t1\n",
            "  (2256, 10690)\t1\n"
          ],
          "name": "stdout"
        }
      ]
    },
    {
      "cell_type": "markdown",
      "metadata": {
        "id": "AYYzNn5kYnAx",
        "colab_type": "text"
      },
      "source": [
        "# That's it!!! Let's Move to Training! ⛸⛸⛸"
      ]
    },
    {
      "cell_type": "code",
      "metadata": {
        "id": "bhWeUtv5YnA6",
        "colab_type": "code",
        "outputId": "14312946-4b68-41e5-c430-2cd92cfa5a4f",
        "colab": {}
      },
      "source": [
        "from sklearn.naive_bayes import MultinomialNB #importing the Sklearn's NB Fucntionality\n",
        "clf = MultinomialNB() #simply instantiate a Multinomial Naive Bayes object\n",
        "clf.fit(X_train_counts, train_labels)  #calling the fit method trains it\n",
        "print (\"Training Completed\")"
      ],
      "execution_count": 0,
      "outputs": [
        {
          "output_type": "stream",
          "text": [
            "Training Completed\n"
          ],
          "name": "stdout"
        }
      ]
    },
    {
      "cell_type": "markdown",
      "metadata": {
        "id": "qK0hnVbYYnBZ",
        "colab_type": "text"
      },
      "source": [
        "# So Now That We Have Trained NB Model - Let's Move to Testing! 🏄🏽🏄🏽🏄🏽"
      ]
    },
    {
      "cell_type": "code",
      "metadata": {
        "id": "g4jwIhENYnBi",
        "colab_type": "code",
        "outputId": "701910a7-baf9-499d-82fe-f7e2e159f91a",
        "colab": {}
      },
      "source": [
        "newsgroups_test=fetch_20newsgroups(subset='test',categories=categories) #loading test data\n",
        "test_data=newsgroups_test.data #get test set examples\n",
        "test_labels=newsgroups_test.target #get test set labels\n",
        "\n",
        "print (\"Number of Test Examples: \",len(test_data))\n",
        "print (\"Number of Test Labels: \",len(test_labels))\n",
        "\n",
        "test_data=[preprocess_string(test_str) for test_str in test_data] #need to preporcess the test set as well!!\n",
        "print (\"Number of Test Examples: \",len(test_data))\n",
        "\n"
      ],
      "execution_count": 0,
      "outputs": [
        {
          "output_type": "stream",
          "text": [
            "Number of Test Examples:  1502\n",
            "Number of Test Labels:  1502\n",
            "Number of Test Examples:  1502\n"
          ],
          "name": "stdout"
        }
      ]
    },
    {
      "cell_type": "markdown",
      "metadata": {
        "id": "3ABRz5WTYnB_",
        "colab_type": "text"
      },
      "source": [
        "The same count_vect object that was instantiated for training dataset will be used for test dataset.\n",
        "But remeber that we are not calling fit_transform(since we only want to transform the test data into a term-document matrix whereas fit_transform fit_transform learns the vocabulary dictionary first and then returns a term-document matrix. We are supposed to learn the vocabulary on training dataset only\n",
        "\n",
        "fit_transform : learns the vocabulary dictionary and returns term-document matrix\n",
        "transform : transforms documents to document-term matrix\n"
      ]
    },
    {
      "cell_type": "code",
      "metadata": {
        "id": "280BapxoYnCJ",
        "colab_type": "code",
        "outputId": "c2515d67-10e1-49bc-9417-449157146fc3",
        "colab": {}
      },
      "source": [
        "X_test_counts=count_vect.transform(test_data) #transforms test data to numerical form\n",
        "print (X_test_counts.shape)"
      ],
      "execution_count": 0,
      "outputs": [
        {
          "output_type": "stream",
          "text": [
            "(1502, 31159)\n"
          ],
          "name": "stdout"
        }
      ]
    },
    {
      "cell_type": "markdown",
      "metadata": {
        "id": "xma4CyX4YnCz",
        "colab_type": "text"
      },
      "source": [
        "# Now we can test on the transformed version of test data"
      ]
    },
    {
      "cell_type": "code",
      "metadata": {
        "id": "On3UQ-4xYnDC",
        "colab_type": "code",
        "outputId": "d95e616a-f8c9-4bc5-c0ff-1a0cbca2311d",
        "colab": {}
      },
      "source": [
        "predicted=clf.predict(X_test_counts)\n",
        "print (\"Test Set Accuracy : \",np.sum(predicted==test_labels)/float(len(predicted))) "
      ],
      "execution_count": 0,
      "outputs": [
        {
          "output_type": "stream",
          "text": [
            "Test Set Accuracy :  0.936085219707\n"
          ],
          "name": "stdout"
        }
      ]
    },
    {
      "cell_type": "markdown",
      "metadata": {
        "id": "wrS8iU5lYnDk",
        "colab_type": "text"
      },
      "source": [
        "### The above code can be further reduced to literally 3 lines of code by using the pipeline functionality of sklearn!\n",
        "\n",
        "# It's truly the ML Holy Toolkit!"
      ]
    },
    {
      "cell_type": "code",
      "metadata": {
        "id": "AGzLRQBcYnDv",
        "colab_type": "code",
        "outputId": "bbe3e3a3-8ff6-4ff3-b9fd-7d706e9186ee",
        "colab": {}
      },
      "source": [
        "from sklearn.pipeline import Pipeline #importing the pipeline functionality\n",
        "\n",
        "\n",
        "\"\"\"\n",
        "    We simply build a pipeline object by specifying the pipeline actions and once that pipeline object is\n",
        "    used for the trainign purpose, it will automatically perform the pipeline steps int he specified order.\n",
        "    In our case, as we first want to build a CountVectorizer for the purpose of BoW, and then fit/train a \n",
        "    NB model, so in exectly the same manner, we will speicify these actions in our pipeline. \n",
        "    \n",
        "    Do note that, now when calling the fit method, we will pass the original textual data as now\n",
        "    the count_vect in pipeline will itself convert it to numeric form. So it's important here that we\n",
        "    pass the textual data or else nasty errros will pop out. Same is the case for test data as well. No need\n",
        "    to count vectorize it separately :) But we do need to preprocess the test data from cleaning point of view\n",
        "\n",
        "\"\"\"\n",
        "\n",
        "clf=Pipeline([('count_vect', CountVectorizer()),('clf', MultinomialNB())])\n",
        "clf.fit(train_data,train_labels)  \n",
        "print (\"Done\")"
      ],
      "execution_count": 0,
      "outputs": [
        {
          "output_type": "stream",
          "text": [
            "Done\n"
          ],
          "name": "stdout"
        }
      ]
    },
    {
      "cell_type": "code",
      "metadata": {
        "id": "APU_x82pYnEW",
        "colab_type": "code",
        "outputId": "37196c1f-82c4-41a1-9e1d-e5630e016cbe",
        "colab": {}
      },
      "source": [
        "\n",
        "print (len(test_data))\n",
        "predicted=clf.predict(test_data)\n",
        "print (\"Test Set Accuracy : \",np.sum(predicted==test_labels)/float(len(predicted))) "
      ],
      "execution_count": 0,
      "outputs": [
        {
          "output_type": "stream",
          "text": [
            "1502\n",
            "Test Set Accuracy :  0.936085219707\n"
          ],
          "name": "stdout"
        }
      ]
    },
    {
      "cell_type": "code",
      "metadata": {
        "id": "NCpMph3EYnFA",
        "colab_type": "code",
        "colab": {}
      },
      "source": [
        ""
      ],
      "execution_count": 0,
      "outputs": []
    }
  ]
}